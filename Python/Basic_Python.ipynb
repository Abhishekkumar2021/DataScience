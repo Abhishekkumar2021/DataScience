{
 "cells": [
  {
   "cell_type": "markdown",
   "metadata": {},
   "source": [
    "### Variables in python"
   ]
  },
  {
   "cell_type": "code",
   "execution_count": 3,
   "metadata": {},
   "outputs": [
    {
     "name": "stdout",
     "output_type": "stream",
     "text": [
      "Hello there, I am Abhishek, 20 years old, pursuing B. Tech in CSE \n"
     ]
    }
   ],
   "source": [
    "name = \"Abhishek\"\n",
    "age = 20\n",
    "stream = \"CSE\"\n",
    "course = \"B. Tech\"\n",
    "print(f\"Hello there, I am {name}, {age} years old, pursuing {course} in {stream} \")\n"
   ]
  },
  {
   "cell_type": "markdown",
   "metadata": {},
   "source": [
    "### Numbers"
   ]
  },
  {
   "cell_type": "code",
   "execution_count": 13,
   "metadata": {},
   "outputs": [
    {
     "name": "stdout",
     "output_type": "stream",
     "text": [
      "13\n",
      "7\n",
      "30\n",
      "1000\n",
      "3.3333333333333335\n",
      "3\n",
      "1\n",
      "<class 'int'>\n",
      "<class 'int'>\n",
      "<class 'int'>\n",
      "<class 'int'>\n",
      "<class 'float'>\n",
      "<class 'int'>\n",
      "<class 'int'>\n",
      "100606938779340429026244661272032054840549406412498310088889745126367014523459987013637899753349559126361320415247074288031382654305031621543917591768856803201665665039754145137098564032679649463764449362535326748791929984085757292518872510911382975430979756796381472274974859288759386801205151163346758302329518756\n",
      "3.33\n"
     ]
    }
   ],
   "source": [
    "a = 10\n",
    "b = 3\n",
    "print(a + b)\n",
    "print(a - b)\n",
    "print(a * b)\n",
    "print(a ** b)\n",
    "print(a / b)\n",
    "print(a // b)\n",
    "print(a % b)\n",
    "\n",
    "# type function \n",
    "print(type(a + b))\n",
    "print(type(a - b))\n",
    "print(type(a * b))\n",
    "print(type(a ** b))\n",
    "print(type(a / b))\n",
    "print(type(a // b))\n",
    "print(type(a % b))\n",
    "\n",
    "# Big numbers can be easily handled by python\n",
    "c = 10030301031342002001930130101930130103120301230123010310310301230103103013010301200000000000000000000000012222222222222222222222222012012031323742378464798234\n",
    "d = 10030301031342002001930130101930130103120301230123010310310301230103103013010301200000000000000000000000012222222222222222222222222012012031323742378464798234\n",
    "print(c*d)\n",
    "\n",
    "# round function\n",
    "print(round(a/b,2))\n"
   ]
  },
  {
   "cell_type": "markdown",
   "metadata": {},
   "source": [
    "### Strings"
   ]
  },
  {
   "cell_type": "code",
   "execution_count": 27,
   "metadata": {},
   "outputs": [
    {
     "name": "stdout",
     "output_type": "stream",
     "text": [
      "ice cream\n",
      "ice\n",
      "cream\n",
      "ice\n",
      "ice\n",
      "Mehamdi ki mandhaya, Atrasi road \n",
      "Amroha, 244221\n",
      "Uttar pradesh\n",
      "Maths -> 20\n"
     ]
    }
   ],
   "source": [
    "text = \"ice cream\"\n",
    "print(text)\n",
    "# strings are immutable in python\n",
    "# text[0] = 'I'\n",
    "\n",
    "# Slicing\n",
    "print(text[0:3])\n",
    "print(text[4:])\n",
    "print(text[:3])\n",
    "print(text[:3])\n",
    "\n",
    "# Multiline strings\n",
    "address = '''Mehamdi ki mandhaya, Atrasi road \n",
    "Amroha, 244221\n",
    "Uttar pradesh'''\n",
    "print(address)\n",
    "address\n",
    "\n",
    "# joining number to string\n",
    "sub = 'Maths'\n",
    "num = 20\n",
    "print(sub+\" -> \"+ str(num))\n",
    "\n"
   ]
  },
  {
   "cell_type": "markdown",
   "metadata": {},
   "source": [
    "### Lists"
   ]
  },
  {
   "cell_type": "code",
   "execution_count": 41,
   "metadata": {},
   "outputs": [
    {
     "name": "stdout",
     "output_type": "stream",
     "text": [
      "['Bread', 'Pasta', 'Fruits', 'Veggies']\n",
      "['Chips', 'Pasta', 'Fruits', 'Veggies']\n",
      "['Chips', 'Pasta']\n",
      "['Fruits', 'Veggies']\n",
      "Veggies\n",
      "['Chips', 'Pasta', 'Fruits', 'Veggies', 'Banana']\n",
      "['Chips', 'Burger', 'Pasta', 'Fruits', 'Veggies', 'Banana']\n",
      "6\n",
      "['Bread', 'Pasta', 'shampoo', 'soap']\n",
      "True\n"
     ]
    }
   ],
   "source": [
    "items = ['Bread','Pasta','Fruits','Veggies']\n",
    "print(items)\n",
    "# List are mutable\n",
    "items[0] = 'Chips'\n",
    "print(items)\n",
    "print(items[:2])\n",
    "print(items[2:])\n",
    "print(items[-1])\n",
    "items.append(\"Banana\")\n",
    "print(items)\n",
    "items.insert(1,\"Burger\")\n",
    "print(items)\n",
    "print(len(items))\n",
    "\n",
    "# Joining two lists\n",
    "bathroom = ['shampoo','soap']\n",
    "food = ['Bread','Pasta']\n",
    "items = food + bathroom\n",
    "print(items)\n",
    "print(\"Bread\" in items)\n",
    "\n",
    " "
   ]
  },
  {
   "cell_type": "markdown",
   "metadata": {},
   "source": [
    "### Conditionals"
   ]
  },
  {
   "cell_type": "code",
   "execution_count": 3,
   "metadata": {},
   "outputs": [
    {
     "name": "stdout",
     "output_type": "stream",
     "text": [
      "Even\n",
      "False\n",
      "Indian\n"
     ]
    }
   ],
   "source": [
    "n = input(\"Enter a number\")\n",
    "n = int(n)\n",
    "if n%2 == 1:\n",
    "    print(\"Odd\")\n",
    "else:\n",
    "    print(\"Even\")\n",
    "    \n",
    "print(not True)\n",
    "\n",
    "indian = [\"samosa\",\"daal\",\"naan\"]\n",
    "chinese = [\"egg roll\",\"pot sticker\",\"fried rice\"]\n",
    "italian = [\"pizza\",\"pasta\",\"risotto\"]\n",
    "\n",
    "dish = input(\"Enter a dish\")\n",
    "if dish in indian:\n",
    "    print(\"Indian\")\n",
    "elif dish in chinese:\n",
    "    print(\"Chinese\")\n",
    "elif dish in italian:\n",
    "    print(\"Italian\")\n",
    "else:\n",
    "    print(\"Sorry, I don't know!\")\n"
   ]
  },
  {
   "cell_type": "markdown",
   "metadata": {},
   "source": [
    "### Loops"
   ]
  },
  {
   "cell_type": "code",
   "execution_count": 8,
   "metadata": {},
   "outputs": [
    {
     "name": "stdout",
     "output_type": "stream",
     "text": [
      "2136\n",
      "1\n",
      "3\n",
      "5\n",
      "7\n",
      "9\n"
     ]
    }
   ],
   "source": [
    "exp = [1200,344,21,12,4,234,2,4,23,2,4,234,4,24,24]\n",
    "total = 0\n",
    "\n",
    "for item in exp:\n",
    "    total+=item\n",
    "print(total)\n",
    "\n",
    "# The range function\n",
    "# for i in range(len(exp)):\n",
    "#     total+=exp[i]\n",
    "for i in range(1,10,2):\n",
    "    print(i)\n",
    "\n",
    "\n"
   ]
  },
  {
   "cell_type": "markdown",
   "metadata": {},
   "source": [
    "### Functions"
   ]
  },
  {
   "cell_type": "code",
   "execution_count": 10,
   "metadata": {},
   "outputs": [
    {
     "name": "stdout",
     "output_type": "stream",
     "text": [
      "Hello Abhishek\n",
      "Sum =  23\n"
     ]
    }
   ],
   "source": [
    "def greet(name):\n",
    "    print(f\"Hello {name}\")\n",
    "greet(\"Abhishek\")\n",
    "\n",
    "# Named arguments\n",
    "def sum(a,b):\n",
    "    return a+b\n",
    "print(\"Sum = \",sum(b=10,a=13))\n",
    "\n",
    "# Positional parameters\n",
    "print(\"Sum = \",sum(10,13)) # here a = 10, b = 13"
   ]
  },
  {
   "cell_type": "markdown",
   "metadata": {},
   "source": [
    "### Dictionaries and tuples"
   ]
  },
  {
   "cell_type": "code",
   "execution_count": 23,
   "metadata": {},
   "outputs": [
    {
     "name": "stdout",
     "output_type": "stream",
     "text": [
      "{'Tom': 7564789310, 'Rob': 5820185736}\n",
      "5820185736\n",
      "7564789310\n",
      "Tom\n",
      "Rob\n",
      "Tom 7564789310\n",
      "Rob 5820185736\n",
      "yes,Tom is present\n",
      "{}\n",
      "(1, 4)\n"
     ]
    }
   ],
   "source": [
    "# Dictionaries\n",
    "phone = {\n",
    "    \"Tom\":7564789310,\n",
    "    \"Rob\":5820185736,\n",
    "}\n",
    "\n",
    "# Dictionary store all keys in order\n",
    "print(phone)\n",
    "print(phone[\"Rob\"])\n",
    "print(phone[\"Tom\"])\n",
    "\n",
    "for key in phone:\n",
    "    print(key)\n",
    "    \n",
    "for key,value in phone.items():\n",
    "    print(key,value)\n",
    "    \n",
    "if \"Tom\" in phone:\n",
    "    print(\"yes,Tom is present\")\n",
    "else:\n",
    "    print(\"No,Tom is not present\")\n",
    "    \n",
    "phone.clear()\n",
    "print(phone)\n",
    "\n",
    "# Tuples\n",
    "point= (1,4)\n",
    "print(point)\n",
    "# Tuples are immutable\n",
    "# point[0] = 5"
   ]
  }
 ],
 "metadata": {
  "kernelspec": {
   "display_name": "Python 3.10.4 64-bit",
   "language": "python",
   "name": "python3"
  },
  "language_info": {
   "codemirror_mode": {
    "name": "ipython",
    "version": 3
   },
   "file_extension": ".py",
   "mimetype": "text/x-python",
   "name": "python",
   "nbconvert_exporter": "python",
   "pygments_lexer": "ipython3",
   "version": "3.10.4"
  },
  "orig_nbformat": 4,
  "vscode": {
   "interpreter": {
    "hash": "916dbcbb3f70747c44a77c7bcd40155683ae19c65e1c03b4aa3499c5328201f1"
   }
  }
 },
 "nbformat": 4,
 "nbformat_minor": 2
}
