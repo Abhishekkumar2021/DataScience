{
 "cells": [
  {
   "cell_type": "code",
   "execution_count": 2,
   "metadata": {},
   "outputs": [
    {
     "name": "stdout",
     "output_type": "stream",
     "text": [
      "{'Tom': {'name': 'Tom', 'address': '1 red street, NY', 'phone': 2822346782}, 'Harry': {'name': 'Harry', 'address': '5 black street, NY', 'phone': 6529106837}}\n"
     ]
    }
   ],
   "source": [
    "book = {}\n",
    "book['Tom'] = {\n",
    "    'name':'Tom',\n",
    "    'address':'1 red street, NY',\n",
    "    'phone':2822346782\n",
    "}\n",
    "book['Harry'] = {\n",
    "    'name':'Harry',\n",
    "    'address':'5 black street, NY',\n",
    "    'phone':6529106837\n",
    "}\n",
    "print(book)"
   ]
  },
  {
   "cell_type": "code",
   "execution_count": 4,
   "metadata": {},
   "outputs": [
    {
     "name": "stdout",
     "output_type": "stream",
     "text": [
      "{\"Tom\": {\"name\": \"Tom\", \"address\": \"1 red street, NY\", \"phone\": 2822346782}, \"Harry\": {\"name\": \"Harry\", \"address\": \"5 black street, NY\", \"phone\": 6529106837}}\n",
      "{'Tom': {'name': 'Tom', 'address': '1 red street, NY', 'phone': 2822346782}, 'Harry': {'name': 'Harry', 'address': '5 black street, NY', 'phone': 6529106837}}\n"
     ]
    }
   ],
   "source": [
    "import json\n",
    "str = json.dumps(book)\n",
    "print(str)\n",
    "back_to_dictionary = json.loads(str)\n",
    "print(back_to_dictionary)"
   ]
  }
 ],
 "metadata": {
  "kernelspec": {
   "display_name": "Python 3.10.4 64-bit",
   "language": "python",
   "name": "python3"
  },
  "language_info": {
   "codemirror_mode": {
    "name": "ipython",
    "version": 3
   },
   "file_extension": ".py",
   "mimetype": "text/x-python",
   "name": "python",
   "nbconvert_exporter": "python",
   "pygments_lexer": "ipython3",
   "version": "3.10.4"
  },
  "orig_nbformat": 4,
  "vscode": {
   "interpreter": {
    "hash": "916dbcbb3f70747c44a77c7bcd40155683ae19c65e1c03b4aa3499c5328201f1"
   }
  }
 },
 "nbformat": 4,
 "nbformat_minor": 2
}
